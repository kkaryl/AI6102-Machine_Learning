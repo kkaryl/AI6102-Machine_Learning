{
 "cells": [
  {
   "cell_type": "markdown",
   "metadata": {},
   "source": [
    "# Hands-on Linear SVM for Binary Classification"
   ]
  },
  {
   "cell_type": "markdown",
   "metadata": {},
   "source": [
    "## Dataset Information\n",
    "+ num of classes: 2\n",
    "+ num of data: 6,414 / 26,147 (testing)\n",
    "+ num of features: 123 / 123 (testing) \n",
    "\n",
    "Extraction was done by Barry Becker from the 1994 Census database. A set of reasonably clean records was extracted using the following conditions: ((AAGE>16) && (AGI>100) && (AFNLWGT>1)&& (HRSWK>0))\n",
    "\n",
    "Prediction task is to determine whether a person makes over 50K a year. \n",
    "\n",
    "[Dataset Details](http://archive.ics.uci.edu/ml/datasets/Adult)\n",
    "\n",
    "[Dataset Source](https://www.csie.ntu.edu.tw/~cjlin/libsvmtools/datasets/binary.html)"
   ]
  },
  {
   "cell_type": "markdown",
   "metadata": {},
   "source": [
    "## Configuration"
   ]
  },
  {
   "cell_type": "code",
   "execution_count": 1,
   "metadata": {},
   "outputs": [],
   "source": [
    "import os\n",
    "import numpy as np\n",
    "import sklearn\n",
    "import pprint\n",
    "from sklearn.datasets import load_svmlight_file\n",
    "from sklearn import svm\n",
    "from sklearn.model_selection import cross_val_score"
   ]
  },
  {
   "cell_type": "code",
   "execution_count": 2,
   "metadata": {},
   "outputs": [],
   "source": [
    "DATA_PATH = '../data/'\n",
    "TRAIN_FILE = 'a5a.txt'\n",
    "TEST_FILE = 'a5a.t.txt'\n",
    "N_FEATURES = 123\n",
    "K_FOLD = 3\n",
    "C_values = [0.01, 0.1, 1, 10, 100]"
   ]
  },
  {
   "cell_type": "markdown",
   "metadata": {},
   "source": [
    "## 1. Load Data\n",
    "+ [sklearn.datasets.load_svmlight_file](https://scikit-learn.org/stable/modules/cross_validation.html)"
   ]
  },
  {
   "cell_type": "code",
   "execution_count": 3,
   "metadata": {},
   "outputs": [
    {
     "name": "stdout",
     "output_type": "stream",
     "text": [
      "../data/a5a.t.txt\n",
      "../data/a5a.txt\n"
     ]
    }
   ],
   "source": [
    "for dirname, _, filenames in os.walk(DATA_PATH):\n",
    "    for filename in filenames:\n",
    "        if filename.endswith('.txt'):\n",
    "            print(os.path.join(dirname, filename))"
   ]
  },
  {
   "cell_type": "code",
   "execution_count": 4,
   "metadata": {},
   "outputs": [],
   "source": [
    "def get_data(filename):\n",
    "    data = load_svmlight_file(filename, n_features = N_FEATURES)\n",
    "    return data[0], data[1]"
   ]
  },
  {
   "cell_type": "code",
   "execution_count": 42,
   "metadata": {},
   "outputs": [],
   "source": [
    "X_train, y_train = get_data(DATA_PATH + TRAIN_FILE)\n",
    "X_test, y_test = get_data(DATA_PATH + TEST_FILE)"
   ]
  },
  {
   "cell_type": "code",
   "execution_count": 43,
   "metadata": {},
   "outputs": [
    {
     "name": "stdout",
     "output_type": "stream",
     "text": [
      "Training set has (6414, 123) data\n",
      "Test set has (26147, 123) data\n",
      "<class 'scipy.sparse.csr.csr_matrix'>\n"
     ]
    }
   ],
   "source": [
    "print(f'Training set has {X_train.shape} data')\n",
    "print(f'Test set has {X_test.shape} data')\n",
    "np.set_printoptions(edgeitems=1e9)\n",
    "X_train_printable = X_train.todense()\n",
    "print(type(X_train))"
   ]
  },
  {
   "cell_type": "code",
   "execution_count": 55,
   "metadata": {},
   "outputs": [
    {
     "data": {
      "image/png": "[encoded data removed]",
      "text/plain": [
       "<Figure size 720x360 with 1 Axes>"
      ]
     },
     "metadata": {
      "needs_background": "light"
     },
     "output_type": "display_data"
    }
   ],
   "source": [
    "import matplotlib.pyplot as plt\n",
    "%matplotlib inline\n",
    "plt.figure(figsize=(10,5))\n",
    "plt.spy(X_train, markersize=2, aspect='auto')\n",
    "plt.savefig('sparse_x_train.png', dpi=160)"
   ]
  },
  {
   "cell_type": "code",
   "execution_count": 54,
   "metadata": {},
   "outputs": [
    {
     "name": "stdout",
     "output_type": "stream",
     "text": [
      "  (0, 2)\t1.0\n",
      "  (0, 5)\t1.0\n",
      "  (0, 16)\t1.0\n",
      "  (0, 21)\t1.0\n",
      "  (0, 35)\t1.0\n",
      "  (0, 40)\t1.0\n",
      "  (0, 52)\t1.0\n",
      "  (0, 63)\t1.0\n",
      "  (0, 66)\t1.0\n",
      "  (0, 72)\t1.0\n",
      "  (0, 73)\t1.0\n",
      "  (0, 75)\t1.0\n",
      "  (0, 79)\t1.0\n",
      "  (0, 82)\t1.0\n",
      "-1.0\n"
     ]
    }
   ],
   "source": [
    "print(X_train[1])\n",
    "print(y_train[1])"
   ]
  },
  {
   "cell_type": "markdown",
   "metadata": {},
   "source": [
    "## 2. K-Fold CV LinearSVC\n",
    "Libraries\n",
    "+ [sklearn.svm.LinearSVC](https://scikit-learn.org/stable/modules/generated/sklearn.svm.LinearSVC.html#sklearn.svm.LinearSVC)\n",
    "+ [sklearn.model_selection.cross_val_score](https://scikit-learn.org/stable/modules/generated/sklearn.model_selection.cross_val_score.html)\n",
    "+ [Cross Validation Details](https://scikit-learn.org/stable/modules/cross_validation.html)"
   ]
  },
  {
   "cell_type": "code",
   "execution_count": 8,
   "metadata": {},
   "outputs": [],
   "source": [
    "clf = svm.SVC(kernel='linear', C=1)\n",
    "scores = cross_val_score(clf, X_train, y_train, cv=3)"
   ]
  },
  {
   "cell_type": "code",
   "execution_count": 9,
   "metadata": {},
   "outputs": [
    {
     "name": "stdout",
     "output_type": "stream",
     "text": [
      "Accuracy: 0.84 (+/- 0.01)\n"
     ]
    }
   ],
   "source": [
    "print(\"Accuracy: %0.2f (+/- %0.2f)\" % (scores.mean(), scores.std() * 2))"
   ]
  },
  {
   "cell_type": "code",
   "execution_count": 10,
   "metadata": {},
   "outputs": [
    {
     "name": "stdout",
     "output_type": "stream",
     "text": [
      "Accuracy: 0.77 (+/- 0.01)\n"
     ]
    }
   ],
   "source": [
    "from sklearn import metrics\n",
    "clf2 = svm.SVC(kernel='linear', C=1)\n",
    "scores2 = cross_val_score(clf2, X_train, y_train, cv=3, scoring='f1_macro')\n",
    "print(\"Accuracy: %0.2f (+/- %0.2f)\" % (scores2.mean(), scores2.std() * 2))"
   ]
  },
  {
   "cell_type": "code",
   "execution_count": 11,
   "metadata": {},
   "outputs": [
    {
     "name": "stdout",
     "output_type": "stream",
     "text": [
      "C: 0.01 Accuracy: 0.83474 (+/- 0.00911)\n",
      "C: 0.10 Accuracy: 0.84082 (+/- 0.01235)\n",
      "C: 1.00 Accuracy: 0.83941 (+/- 0.01149)\n",
      "C: 10.00 Accuracy: 0.83895 (+/- 0.00955)\n",
      "C: 100.00 Accuracy: 0.83879 (+/- 0.00905)\n"
     ]
    }
   ],
   "source": [
    "for c_ in C_values:\n",
    "    clf = svm.SVC(kernel='linear', C=c_)\n",
    "    scores = cross_val_score(clf, X_train, y_train, cv=K_FOLD)\n",
    "    print(\"C: %0.2f Accuracy: %0.5f (+/- %0.5f)\" % (c_, scores.mean(), scores.std() * 2))"
   ]
  },
  {
   "cell_type": "code",
   "execution_count": 12,
   "metadata": {},
   "outputs": [
    {
     "name": "stdout",
     "output_type": "stream",
     "text": [
      "C: 0.01 Accuracy: 0.83957 (+/- 0.01153)\n",
      "C: 0.10 Accuracy: 0.84222 (+/- 0.01228)\n",
      "C: 1.00 Accuracy: 0.83801 (+/- 0.00817)\n",
      "C: 10.00 Accuracy: 0.83645 (+/- 0.00841)\n",
      "C: 100.00 Accuracy: 0.83630 (+/- 0.00861)\n"
     ]
    }
   ],
   "source": [
    "for c_ in C_values:\n",
    "    clf = svm.LinearSVC(C=c_, max_iter=50000)\n",
    "    scores = cross_val_score(clf, X_train, y_train, cv=K_FOLD)\n",
    "    \n",
    "    print(\"C: %0.2f Accuracy: %0.5f (+/- %0.5f)\" % (c_, scores.mean(), scores.std() * 2))"
   ]
  },
  {
   "cell_type": "code",
   "execution_count": 57,
   "metadata": {},
   "outputs": [
    {
     "name": "stdout",
     "output_type": "stream",
     "text": [
      "C: 0.01 Accuracy: 0.83957 (+/- 0.01153)\n",
      "C: 0.10 Accuracy: 0.84222 (+/- 0.01228)\n",
      "C: 1.00 Accuracy: 0.83801 (+/- 0.00817)\n",
      "C: 10.00 Accuracy: 0.83645 (+/- 0.00841)\n",
      "C: 100.00 Accuracy: 0.83630 (+/- 0.00861)\n"
     ]
    }
   ],
   "source": [
    "accuracies = dict.fromkeys(C_values)\n",
    "for c_ in C_values:\n",
    "    clf = svm.LinearSVC(C=c_, max_iter=60000) #60,000 to avoid convergence warning\n",
    "    scores = cross_val_score(clf, X_train, y_train, cv=K_FOLD, scoring='accuracy')\n",
    "    accuracies[c_] = scores.mean()\n",
    "    print(\"C: %0.2f Accuracy: %0.5f (+/- %0.5f)\" % (c_, scores.mean(), scores.std() * 2))    "
   ]
  },
  {
   "cell_type": "code",
   "execution_count": 58,
   "metadata": {},
   "outputs": [
    {
     "name": "stdout",
     "output_type": "stream",
     "text": [
      "C: 0.01 Accuracy: 0.83957 (+/- 0.01153)\n",
      "C: 0.10 Accuracy: 0.84222 (+/- 0.01228)\n",
      "C: 1.00 Accuracy: 0.83801 (+/- 0.00817)\n"
     ]
    },
    {
     "name": "stderr",
     "output_type": "stream",
     "text": [
      "C:\\Users\\wackm\\anaconda3\\envs\\ai6102ml\\lib\\site-packages\\sklearn\\svm\\_base.py:976: ConvergenceWarning: Liblinear failed to converge, increase the number of iterations.\n",
      "  warnings.warn(\"Liblinear failed to converge, increase \"\n"
     ]
    },
    {
     "name": "stdout",
     "output_type": "stream",
     "text": [
      "C: 10.00 Accuracy: 0.83817 (+/- 0.00939)\n"
     ]
    },
    {
     "name": "stderr",
     "output_type": "stream",
     "text": [
      "C:\\Users\\wackm\\anaconda3\\envs\\ai6102ml\\lib\\site-packages\\sklearn\\svm\\_base.py:976: ConvergenceWarning: Liblinear failed to converge, increase the number of iterations.\n",
      "  warnings.warn(\"Liblinear failed to converge, increase \"\n"
     ]
    },
    {
     "name": "stdout",
     "output_type": "stream",
     "text": [
      "C: 100.00 Accuracy: 0.79732 (+/- 0.03390)\n"
     ]
    }
   ],
   "source": [
    "accuracies = dict.fromkeys(C_values)\n",
    "for c_ in C_values:\n",
    "    clf = svm.LinearSVC(C=c_) #60,000 to avoid convergence warning\n",
    "    scores = cross_val_score(clf, X_train, y_train, cv=K_FOLD, scoring='accuracy')\n",
    "    accuracies[c_] = scores.mean()\n",
    "    print(\"C: %0.2f Accuracy: %0.5f (+/- %0.5f)\" % (c_, scores.mean(), scores.std() * 2))    "
   ]
  },
  {
   "cell_type": "code",
   "execution_count": 59,
   "metadata": {},
   "outputs": [
    {
     "name": "stdout",
     "output_type": "stream",
     "text": [
      "{0.01: 0.8395696913002807,\n",
      " 0.1: 0.8422201434362333,\n",
      " 1: 0.8380106018085437,\n",
      " 10: 0.8381665107577175,\n",
      " 100: 0.7973183660742126}\n",
      "Best value of C is  0.1\n"
     ]
    }
   ],
   "source": [
    "pprint.pprint(accuracies)\n",
    "best_c = max(accuracies, key=accuracies.get)\n",
    "print('Best value of C is ', best_c)"
   ]
  },
  {
   "cell_type": "markdown",
   "metadata": {},
   "source": [
    "### Part 3: Select best $c^*$ to train LinearSVC"
   ]
  },
  {
   "cell_type": "code",
   "execution_count": 60,
   "metadata": {},
   "outputs": [
    {
     "name": "stdout",
     "output_type": "stream",
     "text": [
      "Accuracy of LinearSVC with C: 0.1 is 0.845871419283283\n"
     ]
    }
   ],
   "source": [
    "svm_clf = svm.LinearSVC(C=best_c)\n",
    "svm_clf.fit(X_train, y_train)\n",
    "# predictions = svm_clf.predict(X_test)\n",
    "accuracy = svm_clf.score(X_test, y_test)\n",
    "print(f'Accuracy of LinearSVC with C: {best_c} is {accuracy}')"
   ]
  },
  {
   "cell_type": "code",
   "execution_count": null,
   "metadata": {},
   "outputs": [],
   "source": []
  }
 ],
 "metadata": {
  "kernelspec": {
   "display_name": "Python 3",
   "language": "python",
   "name": "python3"
  },
  "language_info": {
   "codemirror_mode": {
    "name": "ipython",
    "version": 3
   },
   "file_extension": ".py",
   "mimetype": "text/x-python",
   "name": "python",
   "nbconvert_exporter": "python",
   "pygments_lexer": "ipython3",
   "version": "3.8.5"
  }
 },
 "nbformat": 4,
 "nbformat_minor": 4
}
